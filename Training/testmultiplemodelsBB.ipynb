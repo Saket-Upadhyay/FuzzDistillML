{
 "cells": [
  {
   "metadata": {},
   "cell_type": "markdown",
   "source": [
    "# Test Multiple Classifiers for BB features"
   ],
   "id": "f59f4ce00a64a87a"
  },
  {
   "metadata": {},
   "cell_type": "code",
   "source": [
    "import pandas as pd\n",
    "import os\n",
    "from sklearn.model_selection import cross_val_score\n",
    "from sklearn.preprocessing import StandardScaler\n",
    "from sklearn.ensemble import RandomForestClassifier, GradientBoostingClassifier, AdaBoostClassifier\n",
    "from sklearn.linear_model import LogisticRegression\n",
    "from sklearn.neighbors import KNeighborsClassifier\n",
    "from sklearn.tree import DecisionTreeClassifier\n",
    "from sklearn.naive_bayes import GaussianNB\n",
    "from sklearn.metrics import classification_report, accuracy_score, confusion_matrix\n",
    "from tqdm import tqdm\n",
    "from includes.helpers import get_bb_train_test_set\n",
    "from includes.constants import GLOBAL_RANDOM_STATE"
   ],
   "id": "33b73e5b73b58962",
   "outputs": [],
   "execution_count": null
  },
  {
   "metadata": {},
   "cell_type": "code",
   "source": [
    "X_train, X_test, y_train, y_test = get_bb_train_test_set()"
   ],
   "id": "22ef4fcf86c32844",
   "outputs": [],
   "execution_count": null
  },
  {
   "metadata": {},
   "cell_type": "code",
   "source": [
    "# Step 4: Feature scaling (if needed)\n",
    "scaler = StandardScaler()\n",
    "X_train_scaled = scaler.fit_transform(X_train)\n",
    "X_test_scaled = scaler.transform(X_test)\n",
    "\n",
    "# X_train_scaled = X_train\n",
    "# X_test_scaled = X_test"
   ],
   "id": "144641f90fad65a5",
   "outputs": [],
   "execution_count": null
  },
  {
   "metadata": {},
   "cell_type": "code",
   "source": [
    "# Step 5: List of classifiers to test\n",
    "classifiers = {\n",
    "    \"Logistic Regression\": LogisticRegression(),\n",
    "    \"Random Forest 100\": RandomForestClassifier(random_state=GLOBAL_RANDOM_STATE,n_jobs=int(os.cpu_count())),\n",
    "    \"Random Forest 1000\": RandomForestClassifier(random_state=GLOBAL_RANDOM_STATE,n_jobs=int(os.cpu_count()), n_estimators=1000),\n",
    "    \"Random Forest 10000\": RandomForestClassifier(random_state=GLOBAL_RANDOM_STATE,n_jobs=int(os.cpu_count()), n_estimators=10000),\n",
    "    \"Gradient Boosting\": GradientBoostingClassifier(random_state=GLOBAL_RANDOM_STATE),\n",
    "    \"K-Nearest Neighbors\": KNeighborsClassifier(n_jobs=int(os.cpu_count()),n_neighbors=10),\n",
    "    \"Naive Bayes\": GaussianNB(),\n",
    "    \"Decision Tree\": DecisionTreeClassifier(random_state=GLOBAL_RANDOM_STATE),\n",
    "    \"AdaBoost\": AdaBoostClassifier(random_state=GLOBAL_RANDOM_STATE)\n",
    "}"
   ],
   "id": "f007a3873058fc5e",
   "outputs": [],
   "execution_count": null
  },
  {
   "metadata": {},
   "cell_type": "code",
   "source": [
    "# Step 6: Loop through each classifier, train, and evaluate\n",
    "results = {}\n",
    "\n",
    "for name, clf in tqdm(classifiers.items(), desc=\"Training models\", total=len(classifiers)):\n",
    "    # Train the model\n",
    "    clf.fit(X_train_scaled, y_train)\n",
    "    \n",
    "    # Predict on the test set\n",
    "    y_pred = clf.predict(X_test_scaled)\n",
    "    \n",
    "    # Evaluate performance\n",
    "    accuracy = accuracy_score(y_test, y_pred)\n",
    "    report = classification_report(y_test, y_pred, output_dict=True)  # Convert classification report to dict\n",
    "    cm = confusion_matrix(y_test, y_pred)\n",
    "    \n",
    "    # Store results\n",
    "    results[name] = {\n",
    "        \"Accuracy\": accuracy,\n",
    "        \"Precision (Class 0)\": report['0']['precision'],\n",
    "        \"Recall (Class 0)\": report['0']['recall'],\n",
    "        \"F1-Score (Class 0)\": report['0']['f1-score'],\n",
    "        \"Precision (Class 1)\": report['1']['precision'],\n",
    "        \"Recall (Class 1)\": report['1']['recall'],\n",
    "        \"F1-Score (Class 1)\": report['1']['f1-score'],\n",
    "        \"Confusion Matrix\": cm\n",
    "    }"
   ],
   "id": "d5fe349dcf282c8e",
   "outputs": [],
   "execution_count": null
  },
  {
   "metadata": {},
   "cell_type": "code",
   "source": [
    "# Step 7: Print results\n",
    "for name, result in results.items():\n",
    "    print(f\"Model: {name}\")\n",
    "    print(f\"Accuracy: {result['Accuracy']:.2f}\")\n",
    "    print(f\"Precision (Class 0): {result['Precision (Class 0)']:.2f}\")\n",
    "    print(f\"Recall (Class 0): {result['Recall (Class 0)']:.2f}\")\n",
    "    print(f\"F1-Score (Class 0): {result['F1-Score (Class 0)']:.2f}\")\n",
    "    print(f\"Precision (Class 1): {result['Precision (Class 1)']:.2f}\")\n",
    "    print(f\"Recall (Class 1): {result['Recall (Class 1)']:.2f}\")\n",
    "    print(f\"F1-Score (Class 1): {result['F1-Score (Class 1)']:.2f}\")\n",
    "    print(\"Confusion Matrix:\")\n",
    "    print(result['Confusion Matrix'])\n",
    "    print(\"=\" * 50)"
   ],
   "id": "2e124a59b4ec0f8a",
   "outputs": [],
   "execution_count": null
  }
 ],
 "metadata": {
  "kernelspec": {
   "display_name": "Python 3",
   "language": "python",
   "name": "python3"
  },
  "language_info": {
   "codemirror_mode": {
    "name": "ipython",
    "version": 2
   },
   "file_extension": ".py",
   "mimetype": "text/x-python",
   "name": "python",
   "nbconvert_exporter": "python",
   "pygments_lexer": "ipython2",
   "version": "2.7.6"
  }
 },
 "nbformat": 4,
 "nbformat_minor": 5
}
