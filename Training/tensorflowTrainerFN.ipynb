{
 "cells": [
  {
   "cell_type": "code",
   "id": "72241a260e2825b0",
   "metadata": {},
   "source": [
    "import tensorflow as tf\n",
    "from tensorflow.keras.models import Sequential\n",
    "from tensorflow.keras.layers import Dense, Input, Dropout\n",
    "from tensorflow.keras.optimizers import Adam\n",
    "from includes.helpers import get_function_train_test_set\n",
    "from tensorflow.keras.callbacks import EarlyStopping"
   ],
   "outputs": [],
   "execution_count": null
  },
  {
   "cell_type": "code",
   "id": "initial_id",
   "metadata": {},
   "source": [
    "#Prep Data\n",
    "X_train, X_test, y_train, y_test = get_function_train_test_set()"
   ],
   "outputs": [],
   "execution_count": null
  },
  {
   "cell_type": "code",
   "id": "c07ebfc820b1e3c3",
   "metadata": {},
   "source": [
    "print(tf.config.list_physical_devices('CPU'))\n",
    "print(tf.config.list_physical_devices('GPU'))"
   ],
   "outputs": [],
   "execution_count": null
  },
  {
   "cell_type": "code",
   "id": "a26c9009af7a45a7",
   "metadata": {
    "collapsed": false,
    "jupyter": {
     "outputs_hidden": false
    }
   },
   "source": [
    "print(X_train.size)\n",
    "print(X_train.columns)"
   ],
   "outputs": [],
   "execution_count": null
  },
  {
   "cell_type": "code",
   "id": "e71534c840bd99e4",
   "metadata": {},
   "source": [
    "model = Sequential([\n",
    "  Input(shape=(X_train.shape[1],)),\n",
    "  Dense(128, activation='relu'),\n",
    "  Dropout(0.3),\n",
    "  Dense(64, activation='relu'),\n",
    "  Dropout(0.2),\n",
    "  Dense(32, activation='relu'),\n",
    "  Dropout(0.1),\n",
    "  Dense(1, activation='sigmoid')\n",
    "])\n",
    "\n",
    "model.compile(optimizer=Adam(learning_rate=0.001),\n",
    "              loss='binary_crossentropy',\n",
    "              metrics=['accuracy'])"
   ],
   "outputs": [],
   "execution_count": null
  },
  {
   "metadata": {},
   "cell_type": "code",
   "source": "print(model.summary())",
   "id": "6a6fa415dce8d698",
   "outputs": [],
   "execution_count": null
  },
  {
   "metadata": {},
   "cell_type": "code",
   "source": [
    "from tensorflow.keras.utils import plot_model\n",
    "plot_model(model, to_file='model.png', show_shapes=True, show_layer_names=True)"
   ],
   "id": "4a00892932e1293c",
   "outputs": [],
   "execution_count": null
  },
  {
   "cell_type": "code",
   "id": "dd8f8cd4559c12c1",
   "metadata": {},
   "source": [
    "from includes.constants import FN_TF_EPOCHS, FN_TF_BATCH\n",
    "\n",
    "# Train the model\n",
    "MODEL_EPOCHS = FN_TF_EPOCHS\n",
    "MODEL_BATCH = FN_TF_BATCH\n",
    "early_stopping = EarlyStopping(monitor='val_loss', patience=5, restore_best_weights=True)\n",
    "history = model.fit(X_train, y_train, epochs=MODEL_EPOCHS, batch_size=MODEL_BATCH, validation_data=(X_test, y_test),callbacks=[early_stopping])"
   ],
   "outputs": [],
   "execution_count": null
  },
  {
   "cell_type": "code",
   "id": "4455ad4cd95c6da9",
   "metadata": {},
   "source": [
    "# Evaluate the model on the test data\n",
    "loss, accuracy = model.evaluate(X_test, y_test)\n",
    "print(f'Test Accuracy: {accuracy * 100:.2f}%\\nLoss: {loss}')\n"
   ],
   "outputs": [],
   "execution_count": null
  },
  {
   "cell_type": "code",
   "id": "8d8d618f448db866",
   "metadata": {
    "collapsed": false,
    "jupyter": {
     "outputs_hidden": false
    }
   },
   "source": [
    "model.save(f'FNpredict_TF_{str(MODEL_EPOCHS)}_{str(MODEL_BATCH)}_{round(accuracy*100)}.keras')  # Saved in HDF5 format, or use .tf for SavedModel format\n",
    "# model.save(f'testFNpredict_TF_{str(MODEL_EPOCHS)}_{str(MODEL_BATCH)}_{round(accuracy*100)}MAC.keras')  # Saved in HDF5 format, or use .tf for SavedModel format"
   ],
   "outputs": [],
   "execution_count": null
  },
  {
   "cell_type": "markdown",
   "id": "1d3b4891fc317747",
   "metadata": {
    "ExecuteTime": {
     "end_time": "2024-11-22T03:13:39.978222586Z",
     "start_time": "2024-11-22T03:13:39.219912818Z"
    }
   },
   "source": "### Pre-plots"
  },
  {
   "cell_type": "code",
   "id": "6933d697-8fd5-4920-a8f3-1b3cdf85f31b",
   "metadata": {},
   "source": [
    "from sklearn.metrics import classification_report\n",
    "\n",
    "# Predict on test data\n",
    "y_pred = (model.predict(X_test) > 0.5).astype(\"int32\")\n",
    "\n",
    "# Generate the report\n",
    "print(classification_report(y_test, y_pred))\n"
   ],
   "outputs": [],
   "execution_count": null
  },
  {
   "cell_type": "code",
   "id": "be1642ab-0d08-472d-936d-7eebdb2d0233",
   "metadata": {},
   "source": [
    "from sklearn.metrics import cohen_kappa_score, matthews_corrcoef\n",
    "\n",
    "# Ground truth and predictions\n",
    "y_true = y_test  # Actual labels\n",
    "y_pred = (model.predict(X_test) > 0.5).astype(int).ravel()  # Binary predictions\n",
    "\n",
    "# Calculate Cohen's Kappa\n",
    "kappa = cohen_kappa_score(y_true, y_pred)\n",
    "print(f\"Cohen's Kappa: {kappa:.4f}\")\n",
    "\n",
    "# Ground truth and predictions\n",
    "y_true = y_test  # Actual labels\n",
    "y_pred = (model.predict(X_test) > 0.5).astype(int).ravel()  # Binary predictions\n",
    "\n",
    "# Calculate MCC\n",
    "mcc = matthews_corrcoef(y_true, y_pred)\n",
    "print(f\"Matthews Correlation Coefficient: {mcc:.4f}\")\n",
    "\n"
   ],
   "outputs": [],
   "execution_count": null
  },
  {
   "cell_type": "markdown",
   "id": "16a52d6f-a928-44c8-82d5-c10712de4f50",
   "metadata": {},
   "source": [
    "# Plots"
   ]
  },
  {
   "cell_type": "code",
   "id": "ef20efe7aa66a9af",
   "metadata": {},
   "source": [
    "import matplotlib.pyplot as plt"
   ],
   "outputs": [],
   "execution_count": null
  },
  {
   "cell_type": "code",
   "id": "8de6754f-fc30-445a-aae6-032b8ebe1044",
   "metadata": {},
   "source": [
    "# Plot Accuracy\n",
    "plt.plot(history.history['accuracy'], label='Training Accuracy')\n",
    "plt.plot(history.history['val_accuracy'], label='Validation Accuracy')\n",
    "plt.title('Training and Validation Accuracy')\n",
    "plt.xlabel('Epochs')\n",
    "plt.ylabel('Accuracy')\n",
    "plt.legend()\n",
    "plt.show()\n",
    "\n",
    "# Plot Loss\n",
    "plt.plot(history.history['loss'], label='Training Loss')\n",
    "plt.plot(history.history['val_loss'], label='Validation Loss')\n",
    "plt.title('Training and Validation Loss')\n",
    "plt.xlabel('Epochs')\n",
    "plt.ylabel('Loss')\n",
    "plt.legend()\n",
    "plt.show()\n"
   ],
   "outputs": [],
   "execution_count": null
  },
  {
   "cell_type": "code",
   "id": "be07bafc-af59-4f42-96e2-a67bce3de1fd",
   "metadata": {},
   "source": [
    "from sklearn.metrics import confusion_matrix\n",
    "import seaborn as sns\n",
    "\n",
    "# Generate Confusion Matrix\n",
    "cm = confusion_matrix(y_test, y_pred)\n",
    "sns.heatmap(cm, annot=True, fmt='d', cmap='Blues')\n",
    "plt.title('Confusion Matrix')\n",
    "plt.xlabel('Predicted')\n",
    "plt.ylabel('Actual')\n",
    "plt.show()"
   ],
   "outputs": [],
   "execution_count": null
  },
  {
   "cell_type": "code",
   "id": "240f45c0-c4ef-47ef-a5e8-ef5238487963",
   "metadata": {},
   "source": [
    "from sklearn.metrics import classification_report\n",
    "\n",
    "# Generate Classification Report\n",
    "report = classification_report(y_test, y_pred, target_names=[\"Class 0\", \"Class 1\"])\n",
    "print(\"Classification Report:\\n\")\n",
    "print(report)"
   ],
   "outputs": [],
   "execution_count": null
  },
  {
   "cell_type": "code",
   "id": "b430eb68-3ed1-4985-89c3-c6b94b9ea172",
   "metadata": {},
   "source": [
    "from sklearn.metrics import roc_curve, auc\n",
    "\n",
    "# Compute ROC Curve\n",
    "y_pred_proba = model.predict(X_test).ravel()\n",
    "fpr, tpr, thresholds = roc_curve(y_test, y_pred_proba)\n",
    "roc_auc = auc(fpr, tpr)\n",
    "\n",
    "# Plot ROC Curve\n",
    "plt.figure()\n",
    "plt.plot(fpr, tpr, label=f'ROC Curve (AUC = {roc_auc:.2f})')\n",
    "plt.plot([0, 1], [0, 1], 'k--')  # Diagonal line (random chance)\n",
    "plt.title('Receiver Operating Characteristic (ROC) Curve')\n",
    "plt.xlabel('False Positive Rate')\n",
    "plt.ylabel('True Positive Rate')\n",
    "plt.legend(loc=\"lower right\")\n",
    "plt.show()"
   ],
   "outputs": [],
   "execution_count": null
  },
  {
   "cell_type": "code",
   "id": "f4658ed8-de88-4633-8778-5c3b4ffed170",
   "metadata": {},
   "source": [
    "from sklearn.metrics import precision_recall_curve, average_precision_score\n",
    "\n",
    "# Compute Precision-Recall Curve\n",
    "precision, recall, thresholds = precision_recall_curve(y_test, y_pred_proba)\n",
    "average_precision = average_precision_score(y_test, y_pred_proba)\n",
    "\n",
    "# Plot Precision-Recall Curve\n",
    "plt.figure()\n",
    "plt.plot(recall, precision, label=f'Precision-Recall Curve (AP = {average_precision:.2f})')\n",
    "plt.title('Precision-Recall Curve')\n",
    "plt.xlabel('Recall')\n",
    "plt.ylabel('Precision')\n",
    "plt.legend()\n",
    "plt.show()"
   ],
   "outputs": [],
   "execution_count": null
  },
  {
   "cell_type": "code",
   "id": "1759c5a2-4d34-4406-af55-c250e98dca3b",
   "metadata": {},
   "source": [
    "# Calculate Cohen's Kappa and MCC\n",
    "kappa = cohen_kappa_score(y_test, y_pred)\n",
    "mcc = matthews_corrcoef(y_test, y_pred)\n",
    "\n",
    "# Bar Graph\n",
    "plt.bar([\"Cohen's Kappa\", \"MCC\"], [kappa, mcc], color=['blue', 'orange'])\n",
    "plt.title('Cohen\\'s Kappa and MCC')\n",
    "plt.ylabel('Score')\n",
    "plt.ylim(0, 1)\n",
    "plt.show()"
   ],
   "outputs": [],
   "execution_count": null
  },
  {
   "cell_type": "code",
   "id": "f8104168-bc7e-4b64-9795-af25bb914c14",
   "metadata": {},
   "source": [
    "import numpy as np\n",
    "\n",
    "# Bar plot of predicted classes\n",
    "unique, counts = np.unique(y_pred, return_counts=True)\n",
    "plt.bar(unique, counts, color=['green', 'red'])\n",
    "plt.title('Distribution of Predictions')\n",
    "plt.xlabel('Predicted Class')\n",
    "plt.ylabel('Count')\n",
    "plt.show()"
   ],
   "outputs": [],
   "execution_count": null
  },
  {
   "cell_type": "code",
   "id": "0544aecb-2f46-4ba0-99f5-f6cfa1cbb7aa",
   "metadata": {},
   "source": [
    "from sklearn.calibration import calibration_curve\n",
    "\n",
    "# Calibration Curve\n",
    "prob_true, prob_pred = calibration_curve(y_test, y_pred_proba, n_bins=10)\n",
    "\n",
    "plt.plot(prob_pred, prob_true, marker='o')\n",
    "plt.plot([0, 1], [0, 1], 'k--')  # Perfect calibration line\n",
    "plt.title('Calibration Curve')\n",
    "plt.xlabel('Mean Predicted Probability')\n",
    "plt.ylabel('Fraction of Positives')\n",
    "plt.show()"
   ],
   "outputs": [],
   "execution_count": null
  },
  {
   "metadata": {},
   "cell_type": "markdown",
   "source": "#### SHAP Stuff",
   "id": "834cac38f4410411"
  },
  {
   "metadata": {},
   "cell_type": "code",
   "source": [
    "import shap\n",
    "import pickle"
   ],
   "id": "693480e4df851732",
   "outputs": [],
   "execution_count": null
  },
  {
   "metadata": {},
   "cell_type": "code",
   "source": [
    "# Explain model predictions using SHAP\n",
    "explainer = shap.Explainer(model, X_test)\n",
    "shap_values = explainer(X_test)"
   ],
   "id": "e5f90a84-2307-42df-8393-35d5cbf45283",
   "outputs": [],
   "execution_count": null
  },
  {
   "metadata": {},
   "cell_type": "code",
   "source": [
    "def save_object(obj):\n",
    "  try:\n",
    "    with open(\"data.pickle\", \"wb\") as f:\n",
    "      pickle.dump(obj, f, protocol=pickle.HIGHEST_PROTOCOL)\n",
    "  except Exception as ex:\n",
    "    print(\"Error during pickling object (Possibly unsupported):\", ex)"
   ],
   "id": "b69554bf797c5b3d",
   "outputs": [],
   "execution_count": null
  },
  {
   "metadata": {},
   "cell_type": "code",
   "source": "save_object(shap_values)",
   "id": "28f4f15d2614384f",
   "outputs": [],
   "execution_count": null
  },
  {
   "metadata": {},
   "cell_type": "markdown",
   "source": "**Resume SHAP**",
   "id": "d1b17c28a046fb6c"
  },
  {
   "metadata": {},
   "cell_type": "code",
   "source": "shap_values = pickle.load(open(\"data.pickle\", \"rb\"))",
   "id": "f3401a7048cf7729",
   "outputs": [],
   "execution_count": null
  },
  {
   "metadata": {},
   "cell_type": "code",
   "source": [
    "shap.summary_plot(shap_values, X_test, plot_type=\"bar\",title=\"Feature Importance DNN\")\n",
    "shap.plots.beeswarm(shap_values)\n",
    "shap.summary_plot(shap_values, plot_type='violin')"
   ],
   "id": "581507dcf2da0367",
   "outputs": [],
   "execution_count": null
  },
  {
   "metadata": {},
   "cell_type": "code",
   "source": [
    "shap.initjs()\n",
    "shap.plots.heatmap(shap_values[:1000])"
   ],
   "id": "b6b2cfc5b0bc06a5",
   "outputs": [],
   "execution_count": null
  }
 ],
 "metadata": {
  "kernelspec": {
   "display_name": "Python 3 (ipykernel)",
   "language": "python",
   "name": "python3"
  },
  "language_info": {
   "codemirror_mode": {
    "name": "ipython",
    "version": 3
   },
   "file_extension": ".py",
   "mimetype": "text/x-python",
   "name": "python",
   "nbconvert_exporter": "python",
   "pygments_lexer": "ipython3",
   "version": "3.10.12"
  }
 },
 "nbformat": 4,
 "nbformat_minor": 5
}
