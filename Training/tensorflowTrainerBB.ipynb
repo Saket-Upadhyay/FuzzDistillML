{
 "cells": [
  {
   "cell_type": "markdown",
   "id": "cd092b06621e6c4a",
   "metadata": {},
   "source": [
    "# Train Neural Network for Classification of Basic Blocks"
   ]
  },
  {
   "cell_type": "code",
   "id": "17583b82f369aba0",
   "metadata": {},
   "source": [
    "import pandas as pd\n",
    "import tensorflow as tf\n",
    "from tensorflow.keras.models import Sequential\n",
    "from tensorflow.keras.layers import Dense, Input\n",
    "from tensorflow.keras.optimizers import Adam\n",
    "\n",
    "from sklearn.model_selection import train_test_split\n",
    "from includes.helpers import get_bb_train_test_set"
   ],
   "outputs": [],
   "execution_count": null
  },
  {
   "cell_type": "code",
   "id": "181dddb3a0db0108",
   "metadata": {},
   "source": [
    "tf.config.list_physical_devices('GPU')"
   ],
   "outputs": [],
   "execution_count": null
  },
  {
   "cell_type": "code",
   "id": "initial_id",
   "metadata": {},
   "source": [
    "X_train, X_test, y_train, y_test = get_bb_train_test_set()"
   ],
   "outputs": [],
   "execution_count": null
  },
  {
   "cell_type": "code",
   "id": "955c762e676be733",
   "metadata": {},
   "source": [
    "# Build the binary classification model\n",
    "model = Sequential([\n",
    "    Input(shape=(X_train.shape[1],)),\n",
    "    Dense(128, activation='relu'),  # Input layer (with 64 neurons)\n",
    "    Dense(64, activation='relu'),  # Input layer (with 64 neurons)\n",
    "    Dense(32, activation='relu'),  # Hidden layer\n",
    "    Dense(1, activation='sigmoid')  # Output layer (single neuron for binary classification)\n",
    "])\n",
    "\n",
    "\n",
    "# Compile the model\n",
    "model.compile(optimizer=Adam(), loss='binary_crossentropy', metrics=['accuracy'])"
   ],
   "outputs": [],
   "execution_count": null
  },
  {
   "cell_type": "code",
   "id": "4c509c5564a7f041",
   "metadata": {},
   "source": [
    "# Train the model\n",
    "MODEL_EPOCHS = 21\n",
    "MODEL_BATCH = 32\n",
    "history = model.fit(X_train, y_train, epochs=MODEL_EPOCHS, batch_size=MODEL_BATCH, validation_data=(X_test, y_test))\n",
    "# Save the entire model (architecture, weights, optimizer, and training configuration)"
   ],
   "outputs": [],
   "execution_count": null
  },
  {
   "cell_type": "code",
   "id": "bc6b1239015fedfe",
   "metadata": {},
   "source": [
    "# Evaluate the model on the test data\n",
    "loss, accuracy = model.evaluate(X_test, y_test)\n",
    "print(f'Test Accuracy: {accuracy * 100:.2f}%')"
   ],
   "outputs": [],
   "execution_count": null
  },
  {
   "cell_type": "code",
   "source": [
    "model.save(f'testBBpredict_TF_{str(MODEL_EPOCHS)}_{str(MODEL_BATCH)}_{round(accuracy*100)}.keras')  # Saved in HDF5 format, or use .tf for SavedModel format\n",
    "# model.save(f'testBBpredict_TF_{str(MODEL_EPOCHS)}_{str(MODEL_BATCH)}_{round(accuracy*100)}MAC.keras')  # Saved in HDF5 format, or use .tf for SavedModel format"
   ],
   "metadata": {
    "collapsed": false
   },
   "id": "b0191c679049f5a4",
   "outputs": [],
   "execution_count": null
  },
  {
   "cell_type": "code",
   "id": "2b6ce568d32cafbb",
   "metadata": {},
   "source": [
    "# Predict on the test set\n",
    "y_pred = model.predict(X_test)\n",
    "# Convert probabilities to binary class predictions (0 or 1)\n",
    "y_pred_binary = (y_pred > 0.5).astype(int)"
   ],
   "outputs": [],
   "execution_count": null
  },
  {
   "cell_type": "markdown",
   "id": "7edabbca2b7b7d37",
   "metadata": {},
   "source": [
    "### Model History (Accuracy per Epoch)"
   ]
  },
  {
   "cell_type": "code",
   "id": "98dac07c59d150fc",
   "metadata": {},
   "source": [
    "import matplotlib.pyplot as plt\n",
    "\n",
    "plt.plot(history.history['accuracy'], label='train accuracy')\n",
    "plt.plot(history.history['val_accuracy'], label='val accuracy')\n",
    "plt.xlabel('Epochs')\n",
    "plt.ylabel('Accuracy')\n",
    "plt.legend()\n",
    "plt.show()\n"
   ],
   "outputs": [],
   "execution_count": null
  }
 ],
 "metadata": {
  "kernelspec": {
   "display_name": "Python 3 (ipykernel)",
   "language": "python",
   "name": "python3"
  },
  "language_info": {
   "codemirror_mode": {
    "name": "ipython",
    "version": 3
   },
   "file_extension": ".py",
   "mimetype": "text/x-python",
   "name": "python",
   "nbconvert_exporter": "python",
   "pygments_lexer": "ipython3",
   "version": "3.10.12"
  }
 },
 "nbformat": 4,
 "nbformat_minor": 5
}
