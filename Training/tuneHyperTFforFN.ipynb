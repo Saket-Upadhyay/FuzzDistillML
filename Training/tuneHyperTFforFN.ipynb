{
 "cells": [
  {
   "cell_type": "code",
   "id": "6a160cb433141590",
   "metadata": {},
   "source": [
    "import optuna\n",
    "from tensorflow.keras.models import Sequential\n",
    "from tensorflow.keras.layers import Dense, Input, Dropout\n",
    "from tensorflow.keras.optimizers import Adam\n",
    "\n",
    "from includes.helpers import get_function_train_test_set"
   ],
   "outputs": [],
   "execution_count": null
  },
  {
   "metadata": {},
   "cell_type": "code",
   "source": [
    "X_train, X_test, y_train, y_test = get_function_train_test_set()"
   ],
   "id": "71881e16e1ddba38",
   "outputs": [],
   "execution_count": null
  },
  {
   "metadata": {},
   "cell_type": "code",
   "source": [
    "# Function to create model for Optuna optimization\n",
    "def create_model(trial):\n",
    "    optimizer = trial.suggest_categorical('optimizer', ['adam', 'sgd'])\n",
    "\n",
    "    model = Sequential([\n",
    "      Input(shape=(X_train.shape[1],)),\n",
    "      Dense(128, activation='relu'),\n",
    "      Dropout(0.3),\n",
    "      Dense(64, activation='relu'),\n",
    "      Dropout(0.2),\n",
    "      Dense(32, activation='relu'),\n",
    "      Dropout(0.1),\n",
    "      Dense(1, activation='sigmoid')\n",
    "    ])\n",
    "\n",
    "    model.compile(optimizer=optimizer, loss='binary_crossentropy', metrics=['accuracy'])\n",
    "    return model\n",
    "\n",
    "# Define the objective function for Optuna\n",
    "def objective(trial):\n",
    "    model = create_model(trial)\n",
    "    MODEL_EPOCHS = trial.suggest_int('epochs', 10, 30)\n",
    "    MODEL_BATCH = trial.suggest_int('batch_size', 32, 128)\n",
    "    model.fit(X_train, y_train, epochs=MODEL_EPOCHS, batch_size=MODEL_BATCH, verbose=0, validation_data=(X_test, y_test))\n",
    "    loss, accuracy = model.evaluate(X_test, y_test, verbose=0)\n",
    "    return accuracy  # We want to maximize accuracy"
   ],
   "id": "3f3b33339d1b7bfb",
   "outputs": [],
   "execution_count": null
  },
  {
   "metadata": {
    "collapsed": true
   },
   "cell_type": "code",
   "source": [
    "# Create the Optuna study and optimize hyperparameters\n",
    "study = optuna.create_study(study_name=\"FN fuzzdistill hyperparam tuning\",direction='maximize')\n",
    "study.optimize(objective, n_trials=50)  # Number of trials to run\n",
    "\n",
    "# Print the best hyperparameters and the best accuracy\n",
    "print(f'Best Hyperparameters: {study.best_params}')\n",
    "print(f'Best Accuracy: {study.best_value}')"
   ],
   "id": "initial_id",
   "outputs": [],
   "execution_count": null
  }
 ],
 "metadata": {
  "kernelspec": {
   "display_name": "Python 3",
   "language": "python",
   "name": "python3"
  },
  "language_info": {
   "codemirror_mode": {
    "name": "ipython",
    "version": 2
   },
   "file_extension": ".py",
   "mimetype": "text/x-python",
   "name": "python",
   "nbconvert_exporter": "python",
   "pygments_lexer": "ipython2",
   "version": "2.7.6"
  }
 },
 "nbformat": 4,
 "nbformat_minor": 5
}
